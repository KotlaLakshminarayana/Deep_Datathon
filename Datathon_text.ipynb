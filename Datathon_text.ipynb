{
 "cells": [
  {
   "cell_type": "code",
   "execution_count": 1,
   "id": "f0814628-3d83-4fd6-a511-2eccf79f9f1e",
   "metadata": {},
   "outputs": [],
   "source": [
    "# loading packages\n",
    "import pandas as pd\n",
    "import numpy as np\n",
    "import seaborn as sns\n",
    "import neattext.functions as nfx\n",
    "from sklearn.linear_model import LogisticRegression\n",
    "from sklearn.naive_bayes import MultinomialNB\n",
    "\n",
    "from sklearn.feature_extraction.text import CountVectorizer\n",
    "from sklearn.model_selection import train_test_split\n",
    "from sklearn.metrics import accuracy_score,classification_report,confusion_matrix"
   ]
  },
  {
   "cell_type": "code",
   "execution_count": 2,
   "id": "b209e004-ab77-4407-8689-b4318944d47f",
   "metadata": {},
   "outputs": [],
   "source": [
    "# Load Dataset\n",
    "df = pd.read_csv(\"Datathon_TrainData_org.csv\")"
   ]
  },
  {
   "cell_type": "code",
   "execution_count": 3,
   "id": "fea2d4c0-3bdd-405e-ab69-507ceaac36cb",
   "metadata": {},
   "outputs": [
    {
     "data": {
      "text/html": [
       "<div>\n",
       "<style scoped>\n",
       "    .dataframe tbody tr th:only-of-type {\n",
       "        vertical-align: middle;\n",
       "    }\n",
       "\n",
       "    .dataframe tbody tr th {\n",
       "        vertical-align: top;\n",
       "    }\n",
       "\n",
       "    .dataframe thead th {\n",
       "        text-align: right;\n",
       "    }\n",
       "</style>\n",
       "<table border=\"1\" class=\"dataframe\">\n",
       "  <thead>\n",
       "    <tr style=\"text-align: right;\">\n",
       "      <th></th>\n",
       "      <th>Country</th>\n",
       "      <th>Date</th>\n",
       "      <th>Speaker</th>\n",
       "      <th>Headline</th>\n",
       "      <th>Text_of_Speech</th>\n",
       "      <th>Designation</th>\n",
       "      <th>Running President/PM</th>\n",
       "      <th>Speech Link</th>\n",
       "      <th>Emotion</th>\n",
       "      <th>Context</th>\n",
       "    </tr>\n",
       "  </thead>\n",
       "  <tbody>\n",
       "    <tr>\n",
       "      <th>0</th>\n",
       "      <td>Russia</td>\n",
       "      <td>24-01-2000</td>\n",
       "      <td>Vladimir Putin</td>\n",
       "      <td>Speech at a conference of the heads of republi...</td>\n",
       "      <td>Esteemed Mr Lebedev,\\n\\nLadies and Gentlemen:\\...</td>\n",
       "      <td>President</td>\n",
       "      <td>Vladimir Putin</td>\n",
       "      <td>http://en.kremlin.ru/events/president/transcri...</td>\n",
       "      <td>UPSET</td>\n",
       "      <td>OTHERS</td>\n",
       "    </tr>\n",
       "    <tr>\n",
       "      <th>1</th>\n",
       "      <td>USA</td>\n",
       "      <td>09-09-2021 00:00</td>\n",
       "      <td>Joe Biden</td>\n",
       "      <td>Remarks by President Biden on Fighting the COV...</td>\n",
       "      <td>THE PRESIDENT:  Good evening, my fellow Americ...</td>\n",
       "      <td>President</td>\n",
       "      <td>Joe Biden</td>\n",
       "      <td>https://www.whitehouse.gov/briefing-room/speec...</td>\n",
       "      <td>OPTIMISM</td>\n",
       "      <td>DEVELOPMENT</td>\n",
       "    </tr>\n",
       "    <tr>\n",
       "      <th>2</th>\n",
       "      <td>Russia</td>\n",
       "      <td>24-12-2004</td>\n",
       "      <td>Vladimir Putin</td>\n",
       "      <td>Excerpts from the Opening Speech at a Session ...</td>\n",
       "      <td>Good afternoon, dear colleagues,\\n\\nOur meetin...</td>\n",
       "      <td>President</td>\n",
       "      <td>Vladimir Putin</td>\n",
       "      <td>http://en.kremlin.ru/events/president/transcri...</td>\n",
       "      <td>NEUTRAL</td>\n",
       "      <td>DEVELOPMENT</td>\n",
       "    </tr>\n",
       "    <tr>\n",
       "      <th>3</th>\n",
       "      <td>USA</td>\n",
       "      <td>14-08-2014</td>\n",
       "      <td>Barack Obama</td>\n",
       "      <td>\\nStatement by the President</td>\n",
       "      <td>Good afternoon, everybody. This sound system i...</td>\n",
       "      <td>President</td>\n",
       "      <td>Barack Obama</td>\n",
       "      <td>https://obamawhitehouse.archives.gov/the-press...</td>\n",
       "      <td>NEUTRAL</td>\n",
       "      <td>INTERNATIONAL AFFAIRS</td>\n",
       "    </tr>\n",
       "    <tr>\n",
       "      <th>4</th>\n",
       "      <td>USA</td>\n",
       "      <td>26-03-2021 00:00</td>\n",
       "      <td>Joe Biden</td>\n",
       "      <td>Statement by President Biden on the Attack on ...</td>\n",
       "      <td>More Americans voted in the 2020 elections tha...</td>\n",
       "      <td>President</td>\n",
       "      <td>Joe Biden</td>\n",
       "      <td>https://www.whitehouse.gov/briefing-room/speec...</td>\n",
       "      <td>UPSET</td>\n",
       "      <td>OTHERS</td>\n",
       "    </tr>\n",
       "  </tbody>\n",
       "</table>\n",
       "</div>"
      ],
      "text/plain": [
       "  Country              Date         Speaker  \\\n",
       "0  Russia        24-01-2000  Vladimir Putin   \n",
       "1     USA  09-09-2021 00:00       Joe Biden   \n",
       "2  Russia        24-12-2004  Vladimir Putin   \n",
       "3     USA        14-08-2014    Barack Obama   \n",
       "4     USA  26-03-2021 00:00       Joe Biden   \n",
       "\n",
       "                                            Headline  \\\n",
       "0  Speech at a conference of the heads of republi...   \n",
       "1  Remarks by President Biden on Fighting the COV...   \n",
       "2  Excerpts from the Opening Speech at a Session ...   \n",
       "3                       \\nStatement by the President   \n",
       "4  Statement by President Biden on the Attack on ...   \n",
       "\n",
       "                                      Text_of_Speech Designation  \\\n",
       "0  Esteemed Mr Lebedev,\\n\\nLadies and Gentlemen:\\...   President   \n",
       "1  THE PRESIDENT:  Good evening, my fellow Americ...   President   \n",
       "2  Good afternoon, dear colleagues,\\n\\nOur meetin...   President   \n",
       "3  Good afternoon, everybody. This sound system i...   President   \n",
       "4  More Americans voted in the 2020 elections tha...   President   \n",
       "\n",
       "  Running President/PM                                        Speech Link  \\\n",
       "0       Vladimir Putin  http://en.kremlin.ru/events/president/transcri...   \n",
       "1            Joe Biden  https://www.whitehouse.gov/briefing-room/speec...   \n",
       "2       Vladimir Putin  http://en.kremlin.ru/events/president/transcri...   \n",
       "3         Barack Obama  https://obamawhitehouse.archives.gov/the-press...   \n",
       "4            Joe Biden  https://www.whitehouse.gov/briefing-room/speec...   \n",
       "\n",
       "    Emotion                Context  \n",
       "0     UPSET                 OTHERS  \n",
       "1  OPTIMISM            DEVELOPMENT  \n",
       "2   NEUTRAL            DEVELOPMENT  \n",
       "3   NEUTRAL  INTERNATIONAL AFFAIRS  \n",
       "4     UPSET                 OTHERS  "
      ]
     },
     "execution_count": 3,
     "metadata": {},
     "output_type": "execute_result"
    }
   ],
   "source": [
    "df.head()"
   ]
  },
  {
   "cell_type": "code",
   "execution_count": 4,
   "id": "430565a3-cf3b-4c6f-afa5-bafd084f5676",
   "metadata": {},
   "outputs": [
    {
     "data": {
      "text/plain": [
       "NEUTRAL     477\n",
       "OPTIMISM    467\n",
       "JOY         422\n",
       "UPSET       239\n",
       "Name: Emotion, dtype: int64"
      ]
     },
     "execution_count": 4,
     "metadata": {},
     "output_type": "execute_result"
    }
   ],
   "source": [
    "# Value Counts\n",
    "df['Emotion'].value_counts()"
   ]
  },
  {
   "cell_type": "code",
   "execution_count": 5,
   "id": "531d3449-a959-4a19-bff0-3ffed551e619",
   "metadata": {},
   "outputs": [
    {
     "data": {
      "text/plain": [
       "<AxesSubplot:xlabel='Emotion', ylabel='count'>"
      ]
     },
     "execution_count": 5,
     "metadata": {},
     "output_type": "execute_result"
    },
    {
     "data": {
      "image/png": "[encoded data removed]",
      "text/plain": [
       "<Figure size 640x480 with 1 Axes>"
      ]
     },
     "metadata": {},
     "output_type": "display_data"
    }
   ],
   "source": [
    "# Plot\n",
    "sns.countplot(x='Emotion',data=df)"
   ]
  },
  {
   "cell_type": "code",
   "execution_count": 6,
   "id": "40f991d0-952f-40c1-bf00-f3476ce0436d",
   "metadata": {
    "collapsed": true,
    "jupyter": {
     "outputs_hidden": true
    },
    "tags": []
   },
   "outputs": [
    {
     "data": {
      "text/plain": [
       "['BTC_ADDRESS_REGEX',\n",
       " 'CURRENCY_REGEX',\n",
       " 'CURRENCY_SYMB_REGEX',\n",
       " 'Counter',\n",
       " 'DATE_REGEX',\n",
       " 'EMAIL_REGEX',\n",
       " 'EMOJI_REGEX',\n",
       " 'HASTAG_REGEX',\n",
       " 'MASTERCard_REGEX',\n",
       " 'MD5_SHA_REGEX',\n",
       " 'MOST_COMMON_PUNCT_REGEX',\n",
       " 'NUMBERS_REGEX',\n",
       " 'PHONE_REGEX',\n",
       " 'PoBOX_REGEX',\n",
       " 'SPECIAL_CHARACTERS_REGEX',\n",
       " 'STOPWORDS',\n",
       " 'STOPWORDS_de',\n",
       " 'STOPWORDS_en',\n",
       " 'STOPWORDS_es',\n",
       " 'STOPWORDS_fr',\n",
       " 'STOPWORDS_ru',\n",
       " 'STOPWORDS_yo',\n",
       " 'STREET_ADDRESS_REGEX',\n",
       " 'TextFrame',\n",
       " 'URL_PATTERN',\n",
       " 'USER_HANDLES_REGEX',\n",
       " 'VISACard_REGEX',\n",
       " '__builtins__',\n",
       " '__cached__',\n",
       " '__doc__',\n",
       " '__file__',\n",
       " '__generate_text',\n",
       " '__loader__',\n",
       " '__name__',\n",
       " '__numbers_dict',\n",
       " '__package__',\n",
       " '__spec__',\n",
       " '_lex_richness_herdan',\n",
       " '_lex_richness_maas_ttr',\n",
       " 'clean_text',\n",
       " 'defaultdict',\n",
       " 'digit2words',\n",
       " 'extract_btc_address',\n",
       " 'extract_currencies',\n",
       " 'extract_currency_symbols',\n",
       " 'extract_dates',\n",
       " 'extract_emails',\n",
       " 'extract_emojis',\n",
       " 'extract_hashtags',\n",
       " 'extract_html_tags',\n",
       " 'extract_mastercard_addr',\n",
       " 'extract_md5sha',\n",
       " 'extract_numbers',\n",
       " 'extract_pattern',\n",
       " 'extract_phone_numbers',\n",
       " 'extract_postoffice_box',\n",
       " 'extract_shortwords',\n",
       " 'extract_special_characters',\n",
       " 'extract_stopwords',\n",
       " 'extract_street_address',\n",
       " 'extract_terms_in_bracket',\n",
       " 'extract_urls',\n",
       " 'extract_userhandles',\n",
       " 'extract_visacard_addr',\n",
       " 'fix_contractions',\n",
       " 'generate_sentence',\n",
       " 'hamming_distance',\n",
       " 'inverse_df',\n",
       " 'lexical_richness',\n",
       " 'markov_chain',\n",
       " 'math',\n",
       " 'nlargest',\n",
       " 'normalize',\n",
       " 'num2words',\n",
       " 'random',\n",
       " 're',\n",
       " 'read_txt',\n",
       " 'remove_accents',\n",
       " 'remove_bad_quotes',\n",
       " 'remove_btc_address',\n",
       " 'remove_currencies',\n",
       " 'remove_currency_symbols',\n",
       " 'remove_custom_pattern',\n",
       " 'remove_custom_words',\n",
       " 'remove_dates',\n",
       " 'remove_emails',\n",
       " 'remove_emojis',\n",
       " 'remove_hashtags',\n",
       " 'remove_html_tags',\n",
       " 'remove_mastercard_addr',\n",
       " 'remove_md5sha',\n",
       " 'remove_multiple_spaces',\n",
       " 'remove_non_ascii',\n",
       " 'remove_numbers',\n",
       " 'remove_phone_numbers',\n",
       " 'remove_postoffice_box',\n",
       " 'remove_puncts',\n",
       " 'remove_punctuations',\n",
       " 'remove_shortwords',\n",
       " 'remove_special_characters',\n",
       " 'remove_stopwords',\n",
       " 'remove_street_address',\n",
       " 'remove_terms_in_bracket',\n",
       " 'remove_urls',\n",
       " 'remove_userhandles',\n",
       " 'remove_visacard_addr',\n",
       " 'replace_bad_quotes',\n",
       " 'replace_currencies',\n",
       " 'replace_currency_symbols',\n",
       " 'replace_dates',\n",
       " 'replace_emails',\n",
       " 'replace_emojis',\n",
       " 'replace_numbers',\n",
       " 'replace_phone_numbers',\n",
       " 'replace_special_characters',\n",
       " 'replace_term',\n",
       " 'replace_urls',\n",
       " 'string',\n",
       " 'term_freq',\n",
       " 'to_txt',\n",
       " 'unicodedata',\n",
       " 'word_freq',\n",
       " 'word_length_freq']"
      ]
     },
     "execution_count": 6,
     "metadata": {},
     "output_type": "execute_result"
    }
   ],
   "source": [
    "# Data Cleaning\n",
    "dir(nfx)"
   ]
  },
  {
   "cell_type": "code",
   "execution_count": 8,
   "id": "cef0b7df",
   "metadata": {},
   "outputs": [],
   "source": [
    "indices = df[df.isnull().any(axis=1)].index\n",
    "df = df.drop(indices)\n",
    "\n",
    "# Reset the index\n",
    "df = df.reset_index(drop=True)"
   ]
  },
  {
   "cell_type": "code",
   "execution_count": 9,
   "id": "b1f87847-a91c-4bd6-a307-d746eb5aa9a0",
   "metadata": {},
   "outputs": [],
   "source": [
    "# User handles\n",
    "df['Clean_Text'] = df['Text_of_Speech'].apply(nfx.remove_userhandles)"
   ]
  },
  {
   "cell_type": "code",
   "execution_count": 10,
   "id": "03886bc3-1ac4-4f1b-842b-e5d2d770ff81",
   "metadata": {},
   "outputs": [],
   "source": [
    "# Stopwords\n",
    "df['Clean_Text'] = df['Clean_Text'].apply(nfx.remove_stopwords)"
   ]
  },
  {
   "cell_type": "code",
   "execution_count": 11,
   "id": "0a0fcc0c-4adf-4f0b-b226-164659ad70ba",
   "metadata": {
    "collapsed": true,
    "jupyter": {
     "outputs_hidden": true
    },
    "tags": []
   },
   "outputs": [
    {
     "data": {
      "text/html": [
       "<div>\n",
       "<style scoped>\n",
       "    .dataframe tbody tr th:only-of-type {\n",
       "        vertical-align: middle;\n",
       "    }\n",
       "\n",
       "    .dataframe tbody tr th {\n",
       "        vertical-align: top;\n",
       "    }\n",
       "\n",
       "    .dataframe thead th {\n",
       "        text-align: right;\n",
       "    }\n",
       "</style>\n",
       "<table border=\"1\" class=\"dataframe\">\n",
       "  <thead>\n",
       "    <tr style=\"text-align: right;\">\n",
       "      <th></th>\n",
       "      <th>Country</th>\n",
       "      <th>Date</th>\n",
       "      <th>Speaker</th>\n",
       "      <th>Headline</th>\n",
       "      <th>Text_of_Speech</th>\n",
       "      <th>Designation</th>\n",
       "      <th>Running President/PM</th>\n",
       "      <th>Speech Link</th>\n",
       "      <th>Emotion</th>\n",
       "      <th>Context</th>\n",
       "      <th>Clean_Text</th>\n",
       "    </tr>\n",
       "  </thead>\n",
       "  <tbody>\n",
       "    <tr>\n",
       "      <th>0</th>\n",
       "      <td>Russia</td>\n",
       "      <td>24-01-2000</td>\n",
       "      <td>Vladimir Putin</td>\n",
       "      <td>Speech at a conference of the heads of republi...</td>\n",
       "      <td>Esteemed Mr Lebedev,\\n\\nLadies and Gentlemen:\\...</td>\n",
       "      <td>President</td>\n",
       "      <td>Vladimir Putin</td>\n",
       "      <td>http://en.kremlin.ru/events/president/transcri...</td>\n",
       "      <td>UPSET</td>\n",
       "      <td>OTHERS</td>\n",
       "      <td>Esteemed Mr Lebedev, Ladies Gentlemen: gathere...</td>\n",
       "    </tr>\n",
       "    <tr>\n",
       "      <th>1</th>\n",
       "      <td>USA</td>\n",
       "      <td>09-09-2021 00:00</td>\n",
       "      <td>Joe Biden</td>\n",
       "      <td>Remarks by President Biden on Fighting the COV...</td>\n",
       "      <td>THE PRESIDENT:  Good evening, my fellow Americ...</td>\n",
       "      <td>President</td>\n",
       "      <td>Joe Biden</td>\n",
       "      <td>https://www.whitehouse.gov/briefing-room/speec...</td>\n",
       "      <td>OPTIMISM</td>\n",
       "      <td>DEVELOPMENT</td>\n",
       "      <td>PRESIDENT: Good evening, fellow Americans. wan...</td>\n",
       "    </tr>\n",
       "    <tr>\n",
       "      <th>2</th>\n",
       "      <td>Russia</td>\n",
       "      <td>24-12-2004</td>\n",
       "      <td>Vladimir Putin</td>\n",
       "      <td>Excerpts from the Opening Speech at a Session ...</td>\n",
       "      <td>Good afternoon, dear colleagues,\\n\\nOur meetin...</td>\n",
       "      <td>President</td>\n",
       "      <td>Vladimir Putin</td>\n",
       "      <td>http://en.kremlin.ru/events/president/transcri...</td>\n",
       "      <td>NEUTRAL</td>\n",
       "      <td>DEVELOPMENT</td>\n",
       "      <td>Good afternoon, dear colleagues, meeting today...</td>\n",
       "    </tr>\n",
       "    <tr>\n",
       "      <th>3</th>\n",
       "      <td>USA</td>\n",
       "      <td>14-08-2014</td>\n",
       "      <td>Barack Obama</td>\n",
       "      <td>\\nStatement by the President</td>\n",
       "      <td>Good afternoon, everybody. This sound system i...</td>\n",
       "      <td>President</td>\n",
       "      <td>Barack Obama</td>\n",
       "      <td>https://obamawhitehouse.archives.gov/the-press...</td>\n",
       "      <td>NEUTRAL</td>\n",
       "      <td>INTERNATIONAL AFFAIRS</td>\n",
       "      <td>Good afternoon, everybody. sound system powerf...</td>\n",
       "    </tr>\n",
       "    <tr>\n",
       "      <th>4</th>\n",
       "      <td>USA</td>\n",
       "      <td>26-03-2021 00:00</td>\n",
       "      <td>Joe Biden</td>\n",
       "      <td>Statement by President Biden on the Attack on ...</td>\n",
       "      <td>More Americans voted in the 2020 elections tha...</td>\n",
       "      <td>President</td>\n",
       "      <td>Joe Biden</td>\n",
       "      <td>https://www.whitehouse.gov/briefing-room/speec...</td>\n",
       "      <td>UPSET</td>\n",
       "      <td>OTHERS</td>\n",
       "      <td>Americans voted 2020 elections election nation...</td>\n",
       "    </tr>\n",
       "    <tr>\n",
       "      <th>...</th>\n",
       "      <td>...</td>\n",
       "      <td>...</td>\n",
       "      <td>...</td>\n",
       "      <td>...</td>\n",
       "      <td>...</td>\n",
       "      <td>...</td>\n",
       "      <td>...</td>\n",
       "      <td>...</td>\n",
       "      <td>...</td>\n",
       "      <td>...</td>\n",
       "      <td>...</td>\n",
       "    </tr>\n",
       "    <tr>\n",
       "      <th>1600</th>\n",
       "      <td>United Kingdom</td>\n",
       "      <td>24-Jul-19</td>\n",
       "      <td>Boris Johnson</td>\n",
       "      <td>Boris Johnson's first speech as Prime Minister...</td>\n",
       "      <td>Good afternoon I have just been to see Her Maj...</td>\n",
       "      <td>Prime Minister</td>\n",
       "      <td>Boris Johnson</td>\n",
       "      <td>https://www.gov.uk/government/speeches/boris-j...</td>\n",
       "      <td>OPTIMISM</td>\n",
       "      <td>DEVELOPMENT</td>\n",
       "      <td>Good afternoon Majesty Queen invited form gove...</td>\n",
       "    </tr>\n",
       "    <tr>\n",
       "      <th>1601</th>\n",
       "      <td>USA</td>\n",
       "      <td>01-02-2021 00:00</td>\n",
       "      <td>Joe Biden</td>\n",
       "      <td>Statement by President Joe Biden On Black Hist...</td>\n",
       "      <td>This February, during Black History Month, I c...</td>\n",
       "      <td>President</td>\n",
       "      <td>Joe Biden</td>\n",
       "      <td>https://www.whitehouse.gov/briefing-room/state...</td>\n",
       "      <td>OPTIMISM</td>\n",
       "      <td>OTHERS</td>\n",
       "      <td>February, Black History Month, American people...</td>\n",
       "    </tr>\n",
       "    <tr>\n",
       "      <th>1602</th>\n",
       "      <td>USA</td>\n",
       "      <td>30-09-2015</td>\n",
       "      <td>Barack Obama</td>\n",
       "      <td>\\nRemarks by the President Meeting with State ...</td>\n",
       "      <td>Thank you so much.  Everybody have a seat.  We...</td>\n",
       "      <td>President</td>\n",
       "      <td>Barack Obama</td>\n",
       "      <td>https://obamawhitehouse.archives.gov/the-press...</td>\n",
       "      <td>NEUTRAL</td>\n",
       "      <td>NATIONALISM</td>\n",
       "      <td>Thank much. Everybody seat. Well, welcome Whit...</td>\n",
       "    </tr>\n",
       "    <tr>\n",
       "      <th>1603</th>\n",
       "      <td>China</td>\n",
       "      <td>23-06-2021 00:00</td>\n",
       "      <td>H.E. Wang Yi</td>\n",
       "      <td>Let Us Strengthen Confidence and Solidarity an...</td>\n",
       "      <td>Colleagues,\\nFriends,\\n\\nIn 2013, President Xi...</td>\n",
       "      <td>State Councilor and Foreign Minister of the Pe...</td>\n",
       "      <td>Xi Jinping</td>\n",
       "      <td>https://www.fmprc.gov.cn/mfa_eng/wjdt_665385/z...</td>\n",
       "      <td>JOY</td>\n",
       "      <td>DEVELOPMENT</td>\n",
       "      <td>Colleagues, Friends, 2013, President Xi Jinpin...</td>\n",
       "    </tr>\n",
       "    <tr>\n",
       "      <th>1604</th>\n",
       "      <td>China</td>\n",
       "      <td>06-06-2016 00:00</td>\n",
       "      <td>H.E. Xi Jinping</td>\n",
       "      <td>Making Unremitting Efforts for a New Model of ...</td>\n",
       "      <td>Secretary of State John Kerry,\\nSecretary of t...</td>\n",
       "      <td>President</td>\n",
       "      <td>Xi Jinping</td>\n",
       "      <td>https://www.fmprc.gov.cn/mfa_eng/wjdt_665385/z...</td>\n",
       "      <td>OPTIMISM</td>\n",
       "      <td>INTERNATIONAL AFFAIRS</td>\n",
       "      <td>Secretary State John Kerry, Secretary Treasury...</td>\n",
       "    </tr>\n",
       "  </tbody>\n",
       "</table>\n",
       "<p>1605 rows × 11 columns</p>\n",
       "</div>"
      ],
      "text/plain": [
       "             Country              Date          Speaker  \\\n",
       "0             Russia        24-01-2000   Vladimir Putin   \n",
       "1                USA  09-09-2021 00:00        Joe Biden   \n",
       "2             Russia        24-12-2004   Vladimir Putin   \n",
       "3                USA        14-08-2014     Barack Obama   \n",
       "4                USA  26-03-2021 00:00        Joe Biden   \n",
       "...              ...               ...              ...   \n",
       "1600  United Kingdom         24-Jul-19    Boris Johnson   \n",
       "1601             USA  01-02-2021 00:00        Joe Biden   \n",
       "1602             USA        30-09-2015     Barack Obama   \n",
       "1603           China  23-06-2021 00:00     H.E. Wang Yi   \n",
       "1604           China  06-06-2016 00:00  H.E. Xi Jinping   \n",
       "\n",
       "                                               Headline  \\\n",
       "0     Speech at a conference of the heads of republi...   \n",
       "1     Remarks by President Biden on Fighting the COV...   \n",
       "2     Excerpts from the Opening Speech at a Session ...   \n",
       "3                          \\nStatement by the President   \n",
       "4     Statement by President Biden on the Attack on ...   \n",
       "...                                                 ...   \n",
       "1600  Boris Johnson's first speech as Prime Minister...   \n",
       "1601  Statement by President Joe Biden On Black Hist...   \n",
       "1602  \\nRemarks by the President Meeting with State ...   \n",
       "1603  Let Us Strengthen Confidence and Solidarity an...   \n",
       "1604  Making Unremitting Efforts for a New Model of ...   \n",
       "\n",
       "                                         Text_of_Speech  \\\n",
       "0     Esteemed Mr Lebedev,\\n\\nLadies and Gentlemen:\\...   \n",
       "1     THE PRESIDENT:  Good evening, my fellow Americ...   \n",
       "2     Good afternoon, dear colleagues,\\n\\nOur meetin...   \n",
       "3     Good afternoon, everybody. This sound system i...   \n",
       "4     More Americans voted in the 2020 elections tha...   \n",
       "...                                                 ...   \n",
       "1600  Good afternoon I have just been to see Her Maj...   \n",
       "1601  This February, during Black History Month, I c...   \n",
       "1602  Thank you so much.  Everybody have a seat.  We...   \n",
       "1603  Colleagues,\\nFriends,\\n\\nIn 2013, President Xi...   \n",
       "1604  Secretary of State John Kerry,\\nSecretary of t...   \n",
       "\n",
       "                                            Designation Running President/PM  \\\n",
       "0                                             President       Vladimir Putin   \n",
       "1                                             President            Joe Biden   \n",
       "2                                             President       Vladimir Putin   \n",
       "3                                             President         Barack Obama   \n",
       "4                                             President            Joe Biden   \n",
       "...                                                 ...                  ...   \n",
       "1600                                     Prime Minister        Boris Johnson   \n",
       "1601                                          President            Joe Biden   \n",
       "1602                                          President         Barack Obama   \n",
       "1603  State Councilor and Foreign Minister of the Pe...           Xi Jinping   \n",
       "1604                                          President           Xi Jinping   \n",
       "\n",
       "                                            Speech Link   Emotion  \\\n",
       "0     http://en.kremlin.ru/events/president/transcri...     UPSET   \n",
       "1     https://www.whitehouse.gov/briefing-room/speec...  OPTIMISM   \n",
       "2     http://en.kremlin.ru/events/president/transcri...   NEUTRAL   \n",
       "3     https://obamawhitehouse.archives.gov/the-press...   NEUTRAL   \n",
       "4     https://www.whitehouse.gov/briefing-room/speec...     UPSET   \n",
       "...                                                 ...       ...   \n",
       "1600  https://www.gov.uk/government/speeches/boris-j...  OPTIMISM   \n",
       "1601  https://www.whitehouse.gov/briefing-room/state...  OPTIMISM   \n",
       "1602  https://obamawhitehouse.archives.gov/the-press...   NEUTRAL   \n",
       "1603  https://www.fmprc.gov.cn/mfa_eng/wjdt_665385/z...       JOY   \n",
       "1604  https://www.fmprc.gov.cn/mfa_eng/wjdt_665385/z...  OPTIMISM   \n",
       "\n",
       "                    Context                                         Clean_Text  \n",
       "0                    OTHERS  Esteemed Mr Lebedev, Ladies Gentlemen: gathere...  \n",
       "1               DEVELOPMENT  PRESIDENT: Good evening, fellow Americans. wan...  \n",
       "2               DEVELOPMENT  Good afternoon, dear colleagues, meeting today...  \n",
       "3     INTERNATIONAL AFFAIRS  Good afternoon, everybody. sound system powerf...  \n",
       "4                    OTHERS  Americans voted 2020 elections election nation...  \n",
       "...                     ...                                                ...  \n",
       "1600            DEVELOPMENT  Good afternoon Majesty Queen invited form gove...  \n",
       "1601                 OTHERS  February, Black History Month, American people...  \n",
       "1602            NATIONALISM  Thank much. Everybody seat. Well, welcome Whit...  \n",
       "1603            DEVELOPMENT  Colleagues, Friends, 2013, President Xi Jinpin...  \n",
       "1604  INTERNATIONAL AFFAIRS  Secretary State John Kerry, Secretary Treasury...  \n",
       "\n",
       "[1605 rows x 11 columns]"
      ]
     },
     "execution_count": 11,
     "metadata": {},
     "output_type": "execute_result"
    }
   ],
   "source": [
    "df"
   ]
  },
  {
   "cell_type": "code",
   "execution_count": 12,
   "id": "450c39c0-79dd-4eaf-85fe-57e344eb81bd",
   "metadata": {},
   "outputs": [],
   "source": [
    "# Features & Labels\n",
    "Xfeatures = df['Clean_Text']\n",
    "ylabels = df['Emotion']"
   ]
  },
  {
   "cell_type": "code",
   "execution_count": 13,
   "id": "27d7f976-c28f-449e-ae1a-53a42bbda4e8",
   "metadata": {},
   "outputs": [],
   "source": [
    "#  Spliting dataset\n",
    "x_train,x_test,y_train,y_test = train_test_split(Xfeatures,ylabels,test_size=0.3,random_state=42)"
   ]
  },
  {
   "cell_type": "code",
   "execution_count": 14,
   "id": "6b81cc86-2bef-40c2-b9a3-668caaadaff0",
   "metadata": {},
   "outputs": [],
   "source": [
    "from sklearn.pipeline import Pipeline\n",
    "pipe_line = Pipeline(steps=[('cv',CountVectorizer()),('lr',LogisticRegression())])"
   ]
  },
  {
   "cell_type": "code",
   "execution_count": 15,
   "id": "dc64b9a7-efe2-4bc4-a0e7-46dff1d52b31",
   "metadata": {
    "collapsed": true,
    "jupyter": {
     "outputs_hidden": true
    },
    "tags": []
   },
   "outputs": [
    {
     "name": "stderr",
     "output_type": "stream",
     "text": [
      "C:\\Users\\kotla\\AppData\\Roaming\\Python\\Python310\\site-packages\\sklearn\\linear_model\\_logistic.py:460: ConvergenceWarning: lbfgs failed to converge (status=1):\n",
      "STOP: TOTAL NO. of ITERATIONS REACHED LIMIT.\n",
      "\n",
      "Increase the number of iterations (max_iter) or scale the data as shown in:\n",
      "    https://scikit-learn.org/stable/modules/preprocessing.html\n",
      "Please also refer to the documentation for alternative solver options:\n",
      "    https://scikit-learn.org/stable/modules/linear_model.html#logistic-regression\n",
      "  n_iter_i = _check_optimize_result(\n"
     ]
    },
    {
     "data": {
      "text/html": [
       "<style>#sk-container-id-1 {color: black;}#sk-container-id-1 pre{padding: 0;}#sk-container-id-1 div.sk-toggleable {background-color: white;}#sk-container-id-1 label.sk-toggleable__label {cursor: pointer;display: block;width: 100%;margin-bottom: 0;padding: 0.3em;box-sizing: border-box;text-align: center;}#sk-container-id-1 label.sk-toggleable__label-arrow:before {content: \"▸\";float: left;margin-right: 0.25em;color: #696969;}#sk-container-id-1 label.sk-toggleable__label-arrow:hover:before {color: black;}#sk-container-id-1 div.sk-estimator:hover label.sk-toggleable__label-arrow:before {color: black;}#sk-container-id-1 div.sk-toggleable__content {max-height: 0;max-width: 0;overflow: hidden;text-align: left;background-color: #f0f8ff;}#sk-container-id-1 div.sk-toggleable__content pre {margin: 0.2em;color: black;border-radius: 0.25em;background-color: #f0f8ff;}#sk-container-id-1 input.sk-toggleable__control:checked~div.sk-toggleable__content {max-height: 200px;max-width: 100%;overflow: auto;}#sk-container-id-1 input.sk-toggleable__control:checked~label.sk-toggleable__label-arrow:before {content: \"▾\";}#sk-container-id-1 div.sk-estimator input.sk-toggleable__control:checked~label.sk-toggleable__label {background-color: #d4ebff;}#sk-container-id-1 div.sk-label input.sk-toggleable__control:checked~label.sk-toggleable__label {background-color: #d4ebff;}#sk-container-id-1 input.sk-hidden--visually {border: 0;clip: rect(1px 1px 1px 1px);clip: rect(1px, 1px, 1px, 1px);height: 1px;margin: -1px;overflow: hidden;padding: 0;position: absolute;width: 1px;}#sk-container-id-1 div.sk-estimator {font-family: monospace;background-color: #f0f8ff;border: 1px dotted black;border-radius: 0.25em;box-sizing: border-box;margin-bottom: 0.5em;}#sk-container-id-1 div.sk-estimator:hover {background-color: #d4ebff;}#sk-container-id-1 div.sk-parallel-item::after {content: \"\";width: 100%;border-bottom: 1px solid gray;flex-grow: 1;}#sk-container-id-1 div.sk-label:hover label.sk-toggleable__label {background-color: #d4ebff;}#sk-container-id-1 div.sk-serial::before {content: \"\";position: absolute;border-left: 1px solid gray;box-sizing: border-box;top: 0;bottom: 0;left: 50%;z-index: 0;}#sk-container-id-1 div.sk-serial {display: flex;flex-direction: column;align-items: center;background-color: white;padding-right: 0.2em;padding-left: 0.2em;position: relative;}#sk-container-id-1 div.sk-item {position: relative;z-index: 1;}#sk-container-id-1 div.sk-parallel {display: flex;align-items: stretch;justify-content: center;background-color: white;position: relative;}#sk-container-id-1 div.sk-item::before, #sk-container-id-1 div.sk-parallel-item::before {content: \"\";position: absolute;border-left: 1px solid gray;box-sizing: border-box;top: 0;bottom: 0;left: 50%;z-index: -1;}#sk-container-id-1 div.sk-parallel-item {display: flex;flex-direction: column;z-index: 1;position: relative;background-color: white;}#sk-container-id-1 div.sk-parallel-item:first-child::after {align-self: flex-end;width: 50%;}#sk-container-id-1 div.sk-parallel-item:last-child::after {align-self: flex-start;width: 50%;}#sk-container-id-1 div.sk-parallel-item:only-child::after {width: 0;}#sk-container-id-1 div.sk-dashed-wrapped {border: 1px dashed gray;margin: 0 0.4em 0.5em 0.4em;box-sizing: border-box;padding-bottom: 0.4em;background-color: white;}#sk-container-id-1 div.sk-label label {font-family: monospace;font-weight: bold;display: inline-block;line-height: 1.2em;}#sk-container-id-1 div.sk-label-container {text-align: center;}#sk-container-id-1 div.sk-container {/* jupyter's `normalize.less` sets `[hidden] { display: none; }` but bootstrap.min.css set `[hidden] { display: none !important; }` so we also need the `!important` here to be able to override the default hidden behavior on the sphinx rendered scikit-learn.org. See: https://github.com/scikit-learn/scikit-learn/issues/21755 */display: inline-block !important;position: relative;}#sk-container-id-1 div.sk-text-repr-fallback {display: none;}</style><div id=\"sk-container-id-1\" class=\"sk-top-container\"><div class=\"sk-text-repr-fallback\"><pre>Pipeline(steps=[(&#x27;cv&#x27;, CountVectorizer()), (&#x27;lr&#x27;, LogisticRegression())])</pre><b>In a Jupyter environment, please rerun this cell to show the HTML representation or trust the notebook. <br />On GitHub, the HTML representation is unable to render, please try loading this page with nbviewer.org.</b></div><div class=\"sk-container\" hidden><div class=\"sk-item sk-dashed-wrapped\"><div class=\"sk-label-container\"><div class=\"sk-label sk-toggleable\"><input class=\"sk-toggleable__control sk-hidden--visually\" id=\"sk-estimator-id-1\" type=\"checkbox\" ><label for=\"sk-estimator-id-1\" class=\"sk-toggleable__label sk-toggleable__label-arrow\">Pipeline</label><div class=\"sk-toggleable__content\"><pre>Pipeline(steps=[(&#x27;cv&#x27;, CountVectorizer()), (&#x27;lr&#x27;, LogisticRegression())])</pre></div></div></div><div class=\"sk-serial\"><div class=\"sk-item\"><div class=\"sk-estimator sk-toggleable\"><input class=\"sk-toggleable__control sk-hidden--visually\" id=\"sk-estimator-id-2\" type=\"checkbox\" ><label for=\"sk-estimator-id-2\" class=\"sk-toggleable__label sk-toggleable__label-arrow\">CountVectorizer</label><div class=\"sk-toggleable__content\"><pre>CountVectorizer()</pre></div></div></div><div class=\"sk-item\"><div class=\"sk-estimator sk-toggleable\"><input class=\"sk-toggleable__control sk-hidden--visually\" id=\"sk-estimator-id-3\" type=\"checkbox\" ><label for=\"sk-estimator-id-3\" class=\"sk-toggleable__label sk-toggleable__label-arrow\">LogisticRegression</label><div class=\"sk-toggleable__content\"><pre>LogisticRegression()</pre></div></div></div></div></div></div></div>"
      ],
      "text/plain": [
       "Pipeline(steps=[('cv', CountVectorizer()), ('lr', LogisticRegression())])"
      ]
     },
     "execution_count": 15,
     "metadata": {},
     "output_type": "execute_result"
    }
   ],
   "source": [
    "# Train and Fit Data\n",
    "pipe_line.fit(x_train,y_train)"
   ]
  },
  {
   "cell_type": "code",
   "execution_count": 16,
   "id": "135ed6f8-56ff-4d53-85e3-541e3a7ae2d7",
   "metadata": {},
   "outputs": [
    {
     "data": {
      "text/html": [
       "<style>#sk-container-id-2 {color: black;}#sk-container-id-2 pre{padding: 0;}#sk-container-id-2 div.sk-toggleable {background-color: white;}#sk-container-id-2 label.sk-toggleable__label {cursor: pointer;display: block;width: 100%;margin-bottom: 0;padding: 0.3em;box-sizing: border-box;text-align: center;}#sk-container-id-2 label.sk-toggleable__label-arrow:before {content: \"▸\";float: left;margin-right: 0.25em;color: #696969;}#sk-container-id-2 label.sk-toggleable__label-arrow:hover:before {color: black;}#sk-container-id-2 div.sk-estimator:hover label.sk-toggleable__label-arrow:before {color: black;}#sk-container-id-2 div.sk-toggleable__content {max-height: 0;max-width: 0;overflow: hidden;text-align: left;background-color: #f0f8ff;}#sk-container-id-2 div.sk-toggleable__content pre {margin: 0.2em;color: black;border-radius: 0.25em;background-color: #f0f8ff;}#sk-container-id-2 input.sk-toggleable__control:checked~div.sk-toggleable__content {max-height: 200px;max-width: 100%;overflow: auto;}#sk-container-id-2 input.sk-toggleable__control:checked~label.sk-toggleable__label-arrow:before {content: \"▾\";}#sk-container-id-2 div.sk-estimator input.sk-toggleable__control:checked~label.sk-toggleable__label {background-color: #d4ebff;}#sk-container-id-2 div.sk-label input.sk-toggleable__control:checked~label.sk-toggleable__label {background-color: #d4ebff;}#sk-container-id-2 input.sk-hidden--visually {border: 0;clip: rect(1px 1px 1px 1px);clip: rect(1px, 1px, 1px, 1px);height: 1px;margin: -1px;overflow: hidden;padding: 0;position: absolute;width: 1px;}#sk-container-id-2 div.sk-estimator {font-family: monospace;background-color: #f0f8ff;border: 1px dotted black;border-radius: 0.25em;box-sizing: border-box;margin-bottom: 0.5em;}#sk-container-id-2 div.sk-estimator:hover {background-color: #d4ebff;}#sk-container-id-2 div.sk-parallel-item::after {content: \"\";width: 100%;border-bottom: 1px solid gray;flex-grow: 1;}#sk-container-id-2 div.sk-label:hover label.sk-toggleable__label {background-color: #d4ebff;}#sk-container-id-2 div.sk-serial::before {content: \"\";position: absolute;border-left: 1px solid gray;box-sizing: border-box;top: 0;bottom: 0;left: 50%;z-index: 0;}#sk-container-id-2 div.sk-serial {display: flex;flex-direction: column;align-items: center;background-color: white;padding-right: 0.2em;padding-left: 0.2em;position: relative;}#sk-container-id-2 div.sk-item {position: relative;z-index: 1;}#sk-container-id-2 div.sk-parallel {display: flex;align-items: stretch;justify-content: center;background-color: white;position: relative;}#sk-container-id-2 div.sk-item::before, #sk-container-id-2 div.sk-parallel-item::before {content: \"\";position: absolute;border-left: 1px solid gray;box-sizing: border-box;top: 0;bottom: 0;left: 50%;z-index: -1;}#sk-container-id-2 div.sk-parallel-item {display: flex;flex-direction: column;z-index: 1;position: relative;background-color: white;}#sk-container-id-2 div.sk-parallel-item:first-child::after {align-self: flex-end;width: 50%;}#sk-container-id-2 div.sk-parallel-item:last-child::after {align-self: flex-start;width: 50%;}#sk-container-id-2 div.sk-parallel-item:only-child::after {width: 0;}#sk-container-id-2 div.sk-dashed-wrapped {border: 1px dashed gray;margin: 0 0.4em 0.5em 0.4em;box-sizing: border-box;padding-bottom: 0.4em;background-color: white;}#sk-container-id-2 div.sk-label label {font-family: monospace;font-weight: bold;display: inline-block;line-height: 1.2em;}#sk-container-id-2 div.sk-label-container {text-align: center;}#sk-container-id-2 div.sk-container {/* jupyter's `normalize.less` sets `[hidden] { display: none; }` but bootstrap.min.css set `[hidden] { display: none !important; }` so we also need the `!important` here to be able to override the default hidden behavior on the sphinx rendered scikit-learn.org. See: https://github.com/scikit-learn/scikit-learn/issues/21755 */display: inline-block !important;position: relative;}#sk-container-id-2 div.sk-text-repr-fallback {display: none;}</style><div id=\"sk-container-id-2\" class=\"sk-top-container\"><div class=\"sk-text-repr-fallback\"><pre>Pipeline(steps=[(&#x27;cv&#x27;, CountVectorizer()), (&#x27;lr&#x27;, LogisticRegression())])</pre><b>In a Jupyter environment, please rerun this cell to show the HTML representation or trust the notebook. <br />On GitHub, the HTML representation is unable to render, please try loading this page with nbviewer.org.</b></div><div class=\"sk-container\" hidden><div class=\"sk-item sk-dashed-wrapped\"><div class=\"sk-label-container\"><div class=\"sk-label sk-toggleable\"><input class=\"sk-toggleable__control sk-hidden--visually\" id=\"sk-estimator-id-4\" type=\"checkbox\" ><label for=\"sk-estimator-id-4\" class=\"sk-toggleable__label sk-toggleable__label-arrow\">Pipeline</label><div class=\"sk-toggleable__content\"><pre>Pipeline(steps=[(&#x27;cv&#x27;, CountVectorizer()), (&#x27;lr&#x27;, LogisticRegression())])</pre></div></div></div><div class=\"sk-serial\"><div class=\"sk-item\"><div class=\"sk-estimator sk-toggleable\"><input class=\"sk-toggleable__control sk-hidden--visually\" id=\"sk-estimator-id-5\" type=\"checkbox\" ><label for=\"sk-estimator-id-5\" class=\"sk-toggleable__label sk-toggleable__label-arrow\">CountVectorizer</label><div class=\"sk-toggleable__content\"><pre>CountVectorizer()</pre></div></div></div><div class=\"sk-item\"><div class=\"sk-estimator sk-toggleable\"><input class=\"sk-toggleable__control sk-hidden--visually\" id=\"sk-estimator-id-6\" type=\"checkbox\" ><label for=\"sk-estimator-id-6\" class=\"sk-toggleable__label sk-toggleable__label-arrow\">LogisticRegression</label><div class=\"sk-toggleable__content\"><pre>LogisticRegression()</pre></div></div></div></div></div></div></div>"
      ],
      "text/plain": [
       "Pipeline(steps=[('cv', CountVectorizer()), ('lr', LogisticRegression())])"
      ]
     },
     "execution_count": 16,
     "metadata": {},
     "output_type": "execute_result"
    }
   ],
   "source": [
    "pipe_line"
   ]
  },
  {
   "cell_type": "code",
   "execution_count": 17,
   "id": "28396371-5f5c-4a3b-b974-164e047764f3",
   "metadata": {},
   "outputs": [
    {
     "data": {
      "text/plain": [
       "0.491701244813278"
      ]
     },
     "execution_count": 17,
     "metadata": {},
     "output_type": "execute_result"
    }
   ],
   "source": [
    "# Check Accuracy\n",
    "pipe_line.score(x_test,y_test)"
   ]
  },
  {
   "cell_type": "code",
   "execution_count": 18,
   "id": "eb3a26b6-d09e-422f-991b-b08c48f55b75",
   "metadata": {},
   "outputs": [],
   "source": [
    "# Make A Prediction\n",
    "ex1 = \"This book was so interesting it made me happy\""
   ]
  },
  {
   "cell_type": "code",
   "execution_count": 19,
   "id": "b08597d9-6f59-45cb-a648-95b0da1ce313",
   "metadata": {},
   "outputs": [
    {
     "data": {
      "text/plain": [
       "array(['NEUTRAL'], dtype=object)"
      ]
     },
     "execution_count": 19,
     "metadata": {},
     "output_type": "execute_result"
    }
   ],
   "source": [
    "pipe_line.predict([ex1])"
   ]
  },
  {
   "cell_type": "code",
   "execution_count": 20,
   "id": "5b3822ac-17fc-43dd-9bb7-8dad07a4d32c",
   "metadata": {},
   "outputs": [
    {
     "data": {
      "text/plain": [
       "array([[0.28741036, 0.48126947, 0.08478747, 0.1465327 ]])"
      ]
     },
     "execution_count": 20,
     "metadata": {},
     "output_type": "execute_result"
    }
   ],
   "source": [
    "# Prediction Prob\n",
    "pipe_line.predict_proba([ex1])"
   ]
  },
  {
   "cell_type": "code",
   "execution_count": 21,
   "id": "5b7c4596-d643-48e5-a777-79a6f55c49da",
   "metadata": {},
   "outputs": [
    {
     "data": {
      "text/plain": [
       "array(['JOY', 'NEUTRAL', 'OPTIMISM', 'UPSET'], dtype=object)"
      ]
     },
     "execution_count": 21,
     "metadata": {},
     "output_type": "execute_result"
    }
   ],
   "source": [
    "# To Know the classes\n",
    "pipe_line.classes_"
   ]
  },
  {
   "cell_type": "code",
   "execution_count": 22,
   "id": "c0d40f62-b1fd-4748-a279-c8f50c748f26",
   "metadata": {},
   "outputs": [],
   "source": [
    "# Save Model & Pipeline\n",
    "import joblib\n",
    "pipeline_file = open(\"pickle_data.pkl\",\"wb\")\n",
    "joblib.dump(pipe_line,pipeline_file)\n",
    "pipeline_file.close()"
   ]
  },
  {
   "cell_type": "code",
   "execution_count": null,
   "id": "75a0b2c8",
   "metadata": {},
   "outputs": [],
   "source": []
  },
  {
   "cell_type": "code",
   "execution_count": 44,
   "id": "377c4e98-67f0-45e5-8dd5-0417585754f0",
   "metadata": {},
   "outputs": [
    {
     "name": "stdout",
     "output_type": "stream",
     "text": [
      "Epoch 1/10\n",
      "702/702 [==============================] - 135s 186ms/step - loss: 1.8400 - accuracy: 0.3071 - val_loss: 1.8136 - val_accuracy: 0.3099\n",
      "Epoch 2/10\n",
      "702/702 [==============================] - 123s 175ms/step - loss: 1.8155 - accuracy: 0.3175 - val_loss: 1.8150 - val_accuracy: 0.3099\n",
      "Epoch 3/10\n",
      "702/702 [==============================] - 120s 171ms/step - loss: 1.8092 - accuracy: 0.3177 - val_loss: 1.8113 - val_accuracy: 0.3099\n",
      "Epoch 4/10\n",
      "702/702 [==============================] - 116s 165ms/step - loss: 1.8079 - accuracy: 0.3177 - val_loss: 1.8127 - val_accuracy: 0.3099\n",
      "Epoch 5/10\n",
      "702/702 [==============================] - 119s 169ms/step - loss: 1.8046 - accuracy: 0.3177 - val_loss: 1.8135 - val_accuracy: 0.3099\n",
      "Epoch 6/10\n",
      "702/702 [==============================] - 133s 190ms/step - loss: 1.8036 - accuracy: 0.3177 - val_loss: 1.8109 - val_accuracy: 0.3099\n",
      "Epoch 7/10\n",
      "702/702 [==============================] - 120s 170ms/step - loss: 1.8034 - accuracy: 0.3177 - val_loss: 1.8107 - val_accuracy: 0.3099\n",
      "Epoch 8/10\n",
      "702/702 [==============================] - 121s 172ms/step - loss: 1.8038 - accuracy: 0.3177 - val_loss: 1.8106 - val_accuracy: 0.3099\n",
      "Epoch 9/10\n",
      "702/702 [==============================] - 135s 192ms/step - loss: 1.8027 - accuracy: 0.3177 - val_loss: 1.8109 - val_accuracy: 0.3099\n",
      "Epoch 10/10\n",
      "252/702 [=========>....................] - ETA: 1:26 - loss: 1.8066 - accuracy: 0.3180"
     ]
    }
   ],
   "source": [
    "import numpy as np\n",
    "from tensorflow.keras.models import Sequential\n",
    "from tensorflow.keras.layers import Embedding, LSTM, Dense, Dropout\n",
    "from tensorflow.keras.preprocessing.text import Tokenizer\n",
    "from tensorflow.keras.preprocessing.sequence import pad_sequences\n",
    "from sklearn.model_selection import train_test_split\n",
    "import pandas as pd\n",
    "\n",
    "texts = df['Clean_Text'].tolist()\n",
    "labels = df['Emotion'].tolist()\n",
    "\n",
    "tokenizer = Tokenizer()\n",
    "tokenizer.fit_on_texts(texts)\n",
    "sequences = tokenizer.texts_to_sequences(texts)\n",
    "max_sequence_length = max(len(seq) for seq in sequences)\n",
    "\n",
    "X = pad_sequences(sequences, maxlen=max_sequence_length, padding='post')\n",
    "\n",
    "label_to_index = {label: idx for idx, label in enumerate(set(labels))}\n",
    "y = np.array([label_to_index[label] for label in labels])\n",
    "\n",
    "X_train, X_test, y_train, y_test = train_test_split(X, y, test_size=0.2, random_state=42)\n",
    "\n",
    "model = Sequential()\n",
    "model.add(Embedding(input_dim=len(tokenizer.word_index) + 1, output_dim=128, input_length=max_sequence_length))\n",
    "model.add(LSTM(128, return_sequences=True))\n",
    "model.add(LSTM(64))\n",
    "model.add(Dropout(0.5))\n",
    "model.add(Dense(len(label_to_index), activation='softmax'))\n",
    "\n",
    "model.compile(loss='sparse_categorical_crossentropy', optimizer='adam', metrics=['accuracy'])\n",
    "\n",
    "model.fit(X_train, y_train, epochs=10, batch_size=32, validation_split=0.2)\n",
    "model.save(\"model.h5\")\n",
    "\n",
    "loss, accuracy = model.evaluate(X_test, y_test)\n",
    "print(f\"Test Loss: {loss:.4f}, Test Accuracy: {accuracy:.4f}\")\n",
    "\n",
    "new_texts = [\"I'm feeling really excited!\", \"This is a sad story.\"]\n",
    "new_sequences = tokenizer.texts_to_sequences(new_texts)\n",
    "new_X = pad_sequences(new_sequences, maxlen=max_sequence_length, padding='post')\n",
    "predicted_labels = model.predict(new_X)\n",
    "predicted_labels = [list(label_to_index.keys())[list(label_to_index.values()).index(np.argmax(label))] for label in predicted_labels]\n",
    "print(\"Predicted Emotions:\", predicted_labels)\n"
   ]
  },
  {
   "cell_type": "code",
   "execution_count": null,
   "id": "270f574f",
   "metadata": {},
   "outputs": [],
   "source": []
  }
 ],
 "metadata": {
  "kernelspec": {
   "display_name": "Python 3",
   "language": "python",
   "name": "python3"
  },
  "language_info": {
   "codemirror_mode": {
    "name": "ipython",
    "version": 3
   },
   "file_extension": ".py",
   "mimetype": "text/x-python",
   "name": "python",
   "nbconvert_exporter": "python",
   "pygments_lexer": "ipython3",
   "version": "3.10.2"
  }
 },
 "nbformat": 4,
 "nbformat_minor": 5
}
